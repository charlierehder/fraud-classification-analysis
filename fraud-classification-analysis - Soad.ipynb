{
 "cells": [
  {
   "cell_type": "code",
   "execution_count": 1,
   "id": "6aef4a73-5703-4272-9d78-0f4eb451b0e7",
   "metadata": {},
   "outputs": [],
   "source": [
    "# Import necessary libraries\n",
    "import pandas as pd\n",
    "import numpy as np\n",
    "from sklearn import linear_model\n",
    "from sklearn.linear_model import LinearRegression\n",
    "from sklearn.linear_model import LogisticRegressionCV\n",
    "from sklearn.model_selection import train_test_split\n",
    "from sklearn.metrics import accuracy_score, precision_recall_fscore_support, confusion_matrix, classification_report\n",
    "import matplotlib.pyplot as plt\n",
    "import seaborn as sns\n",
    "import warnings\n",
    "from sklearn.preprocessing import StandardScaler\n",
    "from sklearn.exceptions import UndefinedMetricWarning"
   ]
  },
  {
   "cell_type": "code",
   "execution_count": 2,
   "id": "e3bae03d-2454-4e19-8e40-1062ee7069ae",
   "metadata": {},
   "outputs": [],
   "source": [
    "# Loading the datasets provided by the user\n",
    "data = pd.read_csv('Base.csv')"
   ]
  },
  {
   "cell_type": "code",
   "execution_count": 3,
   "id": "194812ce-fb10-4bd7-992d-589c39742610",
   "metadata": {},
   "outputs": [],
   "source": [
    "# Data Preprocessing\n",
    "# Separate features and target\n",
    "X = data.drop(columns=['fraud_bool'])\n",
    "y = data['fraud_bool'].values.ravel()  # Ensure target is a 1D array\n",
    "\n",
    "# Convert categorical variables using one-hot encoding\n",
    "X_encoded = pd.get_dummies(X, drop_first=True)\n",
    "\n",
    "# Standardize features\n",
    "scaler = StandardScaler()\n",
    "X_scaled = scaler.fit_transform(X_encoded)\n",
    "\n",
    "# Splitting data into train and test sets\n",
    "X_train, X_test, y_train, y_test = train_test_split(X_encoded, y, test_size=0.3, random_state=42)"
   ]
  },
  {
   "cell_type": "code",
   "execution_count": null,
   "id": "157da201-5bb4-429b-919b-eec1ec1bc915",
   "metadata": {},
   "outputs": [],
   "source": [
    "# Logistic Regression with LASSO (L1 penalty) and 10-fold cross-validation\n",
    "logit_lasso = LogisticRegressionCV(\n",
    "    penalty='l1', \n",
    "    solver='liblinear',  # Supports L1 penalty\n",
    "    cv=10, \n",
    "    scoring='accuracy',\n",
    "    max_iter=100\n",
    ")\n",
    "\n",
    "# Fit model\n",
    "logit_lasso.fit(X_train, y_train)\n",
    "\n",
    "# Make predictions\n",
    "y_pred = logit_lasso.predict(X_test)\n",
    "print(y_pred)"
   ]
  },
  {
   "cell_type": "code",
   "execution_count": null,
   "id": "98e13aa2-20ab-4907-82b3-cf16f35a81da",
   "metadata": {},
   "outputs": [],
   "source": [
    "# Performance metrics\n",
    "accuracy = accuracy_score(y_test, y_pred)\n",
    "precision, recall, fscore, _ = precision_recall_fscore_support(y_test, y_pred, average='weighted')\n",
    "\n",
    "print(f'Accuracy: {accuracy:.4f}')\n",
    "print(f'Precision: {precision:.4f}')\n",
    "print(f'Recall: {recall:.4f}')\n",
    "print(f'F1-Score: {fscore:.4f}')"
   ]
  },
  {
   "cell_type": "code",
   "execution_count": null,
   "id": "e4351168-a208-4436-9ade-4a518e4bf330",
   "metadata": {},
   "outputs": [],
   "source": [
    "# Detailed classification report\n",
    "print(\"\\nClassification Report:\")\n",
    "print(classification_report(y_test, y_pred))"
   ]
  },
  {
   "cell_type": "code",
   "execution_count": null,
   "id": "407d0279-0560-4aaf-a333-f7d7f29f1465",
   "metadata": {},
   "outputs": [],
   "source": [
    "# Confusion Matrix Visualization\n",
    "cm = confusion_matrix(y_test, y_pred)\n",
    "sns.heatmap(cm, annot=True, fmt='d', cmap='Blues', xticklabels=np.unique(y), yticklabels=np.unique(y))\n",
    "plt.xlabel('Predicted Labels')\n",
    "plt.ylabel('True Labels')\n",
    "plt.title('Confusion Matrix')\n",
    "plt.show()"
   ]
  },
  {
   "cell_type": "code",
   "execution_count": null,
   "id": "54976e4a-53a3-4754-8653-82bd7a4e9e3c",
   "metadata": {},
   "outputs": [],
   "source": [
    "# Coefficients summary\n",
    "coefficients_df = pd.DataFrame(model.coef_, columns=X_encoded.columns)\n",
    "print(\"\\nModel Coefficients:\")\n",
    "print(coefficients_df.T)"
   ]
  },
  {
   "cell_type": "code",
   "execution_count": null,
   "id": "95b9d908-4c4c-4d6f-ade7-e652b8ec5b3d",
   "metadata": {},
   "outputs": [],
   "source": []
  }
 ],
 "metadata": {
  "kernelspec": {
   "display_name": "Python 3 (ipykernel)",
   "language": "python",
   "name": "python3"
  },
  "language_info": {
   "codemirror_mode": {
    "name": "ipython",
    "version": 3
   },
   "file_extension": ".py",
   "mimetype": "text/x-python",
   "name": "python",
   "nbconvert_exporter": "python",
   "pygments_lexer": "ipython3",
   "version": "3.12.4"
  }
 },
 "nbformat": 4,
 "nbformat_minor": 5
}
