{
 "cells": [
  {
   "cell_type": "code",
   "execution_count": 33,
   "id": "6aef4a73-5703-4272-9d78-0f4eb451b0e7",
   "metadata": {},
   "outputs": [],
   "source": [
    "# Import necessary libraries\n",
    "import pandas as pd\n",
    "import numpy as np\n",
    "from sklearn.linear_model import LogisticRegression\n",
    "from sklearn.model_selection import train_test_split\n",
    "from sklearn.metrics import accuracy_score, precision_recall_fscore_support, confusion_matrix, classification_report\n",
    "import matplotlib.pyplot as plt\n",
    "import seaborn as sns\n",
    "import warnings\n",
    "from sklearn.exceptions import UndefinedMetricWarning"
   ]
  },
  {
   "cell_type": "code",
   "execution_count": 34,
   "id": "e3bae03d-2454-4e19-8e40-1062ee7069ae",
   "metadata": {},
   "outputs": [],
   "source": [
    "# Importing necessary libraries\n",
    "import pandas as pd\n",
    "\n",
    "# Loading the datasets provided by the user\n",
    "data = pd.read_csv('Base.csv')"
   ]
  },
  {
   "cell_type": "code",
   "execution_count": null,
   "id": "194812ce-fb10-4bd7-992d-589c39742610",
   "metadata": {},
   "outputs": [],
   "source": [
    "# Separate features and target\n",
    "X = data.drop(columns=['fraud_bool'])\n",
    "y = data['fraud_bool'].values.ravel()  # Ensure target is a 1D array\n",
    "\n",
    "# Convert categorical variables using one-hot encoding\n",
    "X_encoded = pd.get_dummies(X, drop_first=True)\n",
    "\n",
    "# Splitting data into train and test sets\n",
    "X_train, X_test, y_train, y_test = train_test_split(X_encoded, y, test_size=0.3, random_state=42)\n"
   ]
  },
  {
   "cell_type": "code",
   "execution_count": null,
   "id": "157da201-5bb4-429b-919b-eec1ec1bc915",
   "metadata": {},
   "outputs": [],
   "source": [
    "# Logistic Regression with Lasso (L1 penalty)\n",
    "model = LogisticRegression(penalty='l1', solver='saga', multi_class='multinomial', max_iter=1000)\n",
    "\n",
    "# Fit model to encoded training data\n",
    "model.fit(X_train, y_train)\n",
    "\n",
    "# Predictions\n",
    "y_pred = model.predict(X_test)"
   ]
  },
  {
   "cell_type": "code",
   "execution_count": null,
   "id": "98e13aa2-20ab-4907-82b3-cf16f35a81da",
   "metadata": {},
   "outputs": [],
   "source": [
    "# Performance metrics\n",
    "accuracy = accuracy_score(y_test, y_pred)\n",
    "precision, recall, fscore, _ = precision_recall_fscore_support(y_test, y_pred, average='weighted')\n",
    "\n",
    "print(f'Accuracy: {accuracy:.4f}')\n",
    "print(f'Precision: {precision:.4f}')\n",
    "print(f'Recall: {recall:.4f}')\n",
    "print(f'F1-Score: {fscore:.4f}')"
   ]
  },
  {
   "cell_type": "code",
   "execution_count": null,
   "id": "e4351168-a208-4436-9ade-4a518e4bf330",
   "metadata": {},
   "outputs": [],
   "source": [
    "# Detailed classification report\n",
    "print(\"\\nClassification Report:\")\n",
    "print(classification_report(y_test, y_pred))"
   ]
  },
  {
   "cell_type": "code",
   "execution_count": null,
   "id": "407d0279-0560-4aaf-a333-f7d7f29f1465",
   "metadata": {},
   "outputs": [],
   "source": [
    "# Confusion Matrix Visualization\n",
    "cm = confusion_matrix(y_test, y_pred)\n",
    "sns.heatmap(cm, annot=True, fmt='d', cmap='Blues', xticklabels=np.unique(y), yticklabels=np.unique(y))\n",
    "plt.xlabel('Predicted Labels')\n",
    "plt.ylabel('True Labels')\n",
    "plt.title('Confusion Matrix')\n",
    "plt.show()"
   ]
  },
  {
   "cell_type": "code",
   "execution_count": null,
   "id": "54976e4a-53a3-4754-8653-82bd7a4e9e3c",
   "metadata": {},
   "outputs": [],
   "source": [
    "# Coefficients summary\n",
    "coefficients_df = pd.DataFrame(model.coef_, columns=X.columns, index=model.classes_)\n",
    "print(\"\\nModel Coefficients:\")\n",
    "print(coefficients_df.T)"
   ]
  }
 ],
 "metadata": {
  "kernelspec": {
   "display_name": "Python 3 (ipykernel)",
   "language": "python",
   "name": "python3"
  },
  "language_info": {
   "codemirror_mode": {
    "name": "ipython",
    "version": 3
   },
   "file_extension": ".py",
   "mimetype": "text/x-python",
   "name": "python",
   "nbconvert_exporter": "python",
   "pygments_lexer": "ipython3",
   "version": "3.12.4"
  }
 },
 "nbformat": 4,
 "nbformat_minor": 5
}
