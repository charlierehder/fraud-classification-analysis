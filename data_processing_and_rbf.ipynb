{
 "cells": [
  {
   "cell_type": "markdown",
   "id": "4abe879a-f16f-4eac-9a63-be377ff58aa1",
   "metadata": {},
   "source": [
    "##### Data Preprocessing\n",
    "---"
   ]
  },
  {
   "cell_type": "code",
   "execution_count": 1,
   "id": "d8ba9cfd-0eb9-4bde-8d00-6dc14708799a",
   "metadata": {},
   "outputs": [],
   "source": [
    "# imports\n",
    "import numpy as np\n",
    "import pandas as pd\n",
    "from sklearn.model_selection import train_test_split\n",
    "from sklearn.base import BaseEstimator, TransformerMixin\n",
    "from sklearn.preprocessing import StandardScaler, OneHotEncoder\n",
    "from sklearn.compose import ColumnTransformer\n",
    "from sklearn.pipeline import Pipeline"
   ]
  },
  {
   "cell_type": "code",
   "execution_count": 2,
   "id": "502db458-77fe-4451-9dbc-e7b16d22d179",
   "metadata": {},
   "outputs": [],
   "source": [
    "# build custom preprocessor function - wrapper around column transformer\n",
    "class Preprocessor(BaseEstimator, TransformerMixin):\n",
    "    def __init__(self, cat_features, num_features):\n",
    "        self.cat_features_ = cat_features\n",
    "        self.num_features_ = num_features\n",
    "        self.encoder_ = OneHotEncoder(sparse_output=False, handle_unknown='ignore')\n",
    "        self.scaler_ = StandardScaler()\n",
    "    \n",
    "    def fit(self, X, y=None):\n",
    "        self.encoder_.fit(X[self.cat_features_])\n",
    "        self.scaler_.fit(X[self.num_features_])\n",
    "        return self\n",
    "    \n",
    "    def transform(self, X):\n",
    "        X_cat = pd.DataFrame(self.encoder_.transform(X[self.cat_features_]),\n",
    "                            columns=self.encoder_.get_feature_names_out(self.cat_features_), index=X.index)\n",
    "        X_num = pd.DataFrame(self.scaler_.transform(X[self.num_features_]),\n",
    "                             columns=self.num_features_, index=X.index)\n",
    "        X_combined = pd.concat([X_cat, X_num], axis=1)\n",
    "        return X_combined"
   ]
  },
  {
   "cell_type": "code",
   "execution_count": 3,
   "id": "407c78d4-e07f-4dd3-8d37-c4a9df60983d",
   "metadata": {},
   "outputs": [],
   "source": [
    "df = pd.read_csv(\"data/fraud_detect.csv\")\n",
    "\n",
    "y = df[\"fraud_bool\"]\n",
    "X = df.drop([\"fraud_bool\"], axis=1)"
   ]
  },
  {
   "cell_type": "code",
   "execution_count": 4,
   "id": "950da8af-b28c-4ec2-8176-be0f82628c0a",
   "metadata": {},
   "outputs": [],
   "source": [
    "X_train, X_test, y_train, y_test = train_test_split(X, y, test_size=0.25, random_state=42)"
   ]
  },
  {
   "cell_type": "code",
   "execution_count": 5,
   "id": "3f4b11bd-ab2e-4efa-a9c7-9c7a43cc74a7",
   "metadata": {},
   "outputs": [],
   "source": [
    "# define get numeric cols\n",
    "numeric_features = X.select_dtypes(include=['number']).columns.tolist()\n",
    "categorical_features = X.select_dtypes(include=['object', 'category']).columns.tolist()"
   ]
  },
  {
   "cell_type": "code",
   "execution_count": 6,
   "id": "9c1e2e95-a73f-48f6-9934-fb307d4ea1b8",
   "metadata": {},
   "outputs": [],
   "source": [
    "pipeline = Pipeline(steps=[\n",
    "    ('preprocessor', Preprocessor(categorical_features, numeric_features))\n",
    "])"
   ]
  },
  {
   "cell_type": "code",
   "execution_count": 7,
   "id": "86f56021-b9fe-447a-a9ee-b354e127eb6f",
   "metadata": {},
   "outputs": [],
   "source": [
    "pipeline.fit(X_train)\n",
    "X_train_processed = pipeline.transform(X_train)"
   ]
  },
  {
   "cell_type": "code",
   "execution_count": 8,
   "id": "7918c7dd-4a2b-4111-a040-5f4e6ce7c0ae",
   "metadata": {},
   "outputs": [],
   "source": [
    "X_test_processed = pipeline.transform(X_test)"
   ]
  },
  {
   "cell_type": "code",
   "execution_count": 9,
   "id": "77ae1e80-ef0e-47a5-bb5a-e3b3a77705c1",
   "metadata": {},
   "outputs": [
    {
     "data": {
      "text/plain": [
       "(750000, 52)"
      ]
     },
     "execution_count": 9,
     "metadata": {},
     "output_type": "execute_result"
    }
   ],
   "source": [
    "X_train_processed.shape"
   ]
  },
  {
   "cell_type": "code",
   "execution_count": 10,
   "id": "ef689907-546e-4af2-8419-b659558b3f24",
   "metadata": {},
   "outputs": [
    {
     "data": {
      "text/plain": [
       "(250000, 52)"
      ]
     },
     "execution_count": 10,
     "metadata": {},
     "output_type": "execute_result"
    }
   ],
   "source": [
    "X_test_processed.shape"
   ]
  },
  {
   "cell_type": "code",
   "execution_count": 11,
   "id": "0a68ffba-5039-450a-8452-0ea75b6a7da5",
   "metadata": {},
   "outputs": [],
   "source": [
    "# write processed dataframes to output\n",
    "#X_train_processed.to_csv(\"data/X_train.csv\")\n",
    "#y_train.to_csv(\"data/y_train.csv\")\n",
    "#X_test_processed.to_csv(\"data/X_test.csv\")\n",
    "#y_test.to_csv(\"data/y_test.csv\")"
   ]
  },
  {
   "cell_type": "code",
   "execution_count": 12,
   "id": "e979d856-d2bc-4a4f-a63d-675672b32727",
   "metadata": {},
   "outputs": [
    {
     "name": "stdout",
     "output_type": "stream",
     "text": [
      "              precision    recall  f1-score   support\n",
      "\n",
      "           0       0.99      1.00      0.99    247320\n",
      "           1       0.54      0.01      0.02      2680\n",
      "\n",
      "    accuracy                           0.99    250000\n",
      "   macro avg       0.77      0.51      0.51    250000\n",
      "weighted avg       0.98      0.99      0.98    250000\n",
      "\n"
     ]
    }
   ],
   "source": [
    "from sklearn.linear_model import LogisticRegression\n",
    "from sklearn.metrics import classification_report\n",
    "\n",
    "\n",
    "regr = LogisticRegression()\n",
    "regr.fit(X_train_processed, y_train)\n",
    "\n",
    "y_hat = regr.predict(X_test_processed)\n",
    "\n",
    "print(classification_report(y_test, y_hat))"
   ]
  },
  {
   "cell_type": "code",
   "execution_count": 13,
   "id": "836adde6-ac3c-451e-85b2-1d03b3eb7aa3",
   "metadata": {},
   "outputs": [
    {
     "name": "stdout",
     "output_type": "stream",
     "text": [
      "              precision    recall  f1-score   support\n",
      "\n",
      "           0       0.99      1.00      0.99    247320\n",
      "           1       0.00      0.00      0.00      2680\n",
      "\n",
      "    accuracy                           0.99    250000\n",
      "   macro avg       0.49      0.50      0.50    250000\n",
      "weighted avg       0.98      0.99      0.98    250000\n",
      "\n"
     ]
    },
    {
     "name": "stderr",
     "output_type": "stream",
     "text": [
      "/home/charlie/fraud-classification-analysis/env/lib/python3.12/site-packages/sklearn/metrics/_classification.py:1565: UndefinedMetricWarning: Precision is ill-defined and being set to 0.0 in labels with no predicted samples. Use `zero_division` parameter to control this behavior.\n",
      "  _warn_prf(average, modifier, f\"{metric.capitalize()} is\", len(result))\n",
      "/home/charlie/fraud-classification-analysis/env/lib/python3.12/site-packages/sklearn/metrics/_classification.py:1565: UndefinedMetricWarning: Precision is ill-defined and being set to 0.0 in labels with no predicted samples. Use `zero_division` parameter to control this behavior.\n",
      "  _warn_prf(average, modifier, f\"{metric.capitalize()} is\", len(result))\n",
      "/home/charlie/fraud-classification-analysis/env/lib/python3.12/site-packages/sklearn/metrics/_classification.py:1565: UndefinedMetricWarning: Precision is ill-defined and being set to 0.0 in labels with no predicted samples. Use `zero_division` parameter to control this behavior.\n",
      "  _warn_prf(average, modifier, f\"{metric.capitalize()} is\", len(result))\n"
     ]
    }
   ],
   "source": [
    "from sklearn.svm import SVC\n",
    "from sklearn.metrics import classification_report\n",
    "\n",
    "clf = SVC(C=1, kernel=\"rbf\")\n",
    "clf.fit(X_train_processed, y_train)\n",
    "y_hat = clf.predict(X_test_processed)\n",
    "\n",
    "print(classification_report(y_test, y_hat))"
   ]
  },
  {
   "cell_type": "code",
   "execution_count": null,
   "id": "e6064b50-8d23-4337-9465-df4ed6aa54ab",
   "metadata": {},
   "outputs": [],
   "source": []
  }
 ],
 "metadata": {
  "kernelspec": {
   "display_name": "Python 3 (ipykernel)",
   "language": "python",
   "name": "python3"
  },
  "language_info": {
   "codemirror_mode": {
    "name": "ipython",
    "version": 3
   },
   "file_extension": ".py",
   "mimetype": "text/x-python",
   "name": "python",
   "nbconvert_exporter": "python",
   "pygments_lexer": "ipython3",
   "version": "3.12.3"
  }
 },
 "nbformat": 4,
 "nbformat_minor": 5
}
